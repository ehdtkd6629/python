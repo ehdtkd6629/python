{
  "nbformat": 4,
  "nbformat_minor": 0,
  "metadata": {
    "colab": {
      "provenance": [],
      "authorship_tag": "ABX9TyMO+rYS4hekNjLQxzmqOzpn",
      "include_colab_link": true
    },
    "kernelspec": {
      "name": "python3",
      "display_name": "Python 3"
    },
    "language_info": {
      "name": "python"
    }
  },
  "cells": [
    {
      "cell_type": "markdown",
      "metadata": {
        "id": "view-in-github",
        "colab_type": "text"
      },
      "source": [
        "<a href=\"https://colab.research.google.com/github/ehdtkd6629/python/blob/main/py_B_ipynb_3_14.ipynb\" target=\"_parent\"><img src=\"https://colab.research.google.com/assets/colab-badge.svg\" alt=\"Open In Colab\"/></a>"
      ]
    },
    {
      "cell_type": "markdown",
      "source": [
        "# CH1 파이썬 문법"
      ],
      "metadata": {
        "id": "R-lymEUViVsC"
      }
    },
    {
      "cell_type": "markdown",
      "source": [
        "## 자료형\n",
        "#### 숫자형\n",
        "* 점수  :  123, -20 ,0  \n",
        "* 실수  :  123, 45, -4321.5, 6.08e9  \n",
        "* 8진수 :  0o456, 0o123  \n",
        "* 16진수 : 0xFF , 0x00, 0x0A  \n"
      ],
      "metadata": {
        "id": "p6-JrPX6iX1h"
      }
    },
    {
      "cell_type": "markdown",
      "source": [
        "#### 변수\n",
        "* 문자 또는 밑줄로 시작 (beta, _Lee)  \n",
        "* 대소문자를 구분한다 (sum. Sum. SUM)  \n",
        "* 영문자, 숫자, 밑줄(A~z, 0~9, _)  \n",
        "* 파이썬 키워드는 사용 불가  \n"
      ],
      "metadata": {
        "id": "UDjyHzKBoTww"
      }
    },
    {
      "cell_type": "code",
      "source": [
        "a = 10\n",
        "b = 20\n",
        "c = a + b\n",
        "print(c)"
      ],
      "metadata": {
        "colab": {
          "base_uri": "https://localhost:8080/"
        },
        "id": "C9w1CA9IjfCp",
        "outputId": "1f17ea34-eed5-4ef5-ae18-30ea850bae1e"
      },
      "execution_count": 3,
      "outputs": [
        {
          "output_type": "stream",
          "name": "stdout",
          "text": [
            "30\n"
          ]
        }
      ]
    },
    {
      "cell_type": "code",
      "source": [
        "a = 50   \n",
        "b = 10  \n",
        "c = a/b  #나눗셈  \n",
        "d = a//b  #몫을구하기  \n",
        "e = a%b  #나머지만구하기   \n",
        "#곱셈  \n",
        "f = a*b   \n",
        "g = a**b   # 제곱  \n",
        "print(c,d,e,f,g) "
      ],
      "metadata": {
        "colab": {
          "base_uri": "https://localhost:8080/"
        },
        "id": "SXKqQGHqkvoR",
        "outputId": "634721c9-c77e-49df-9962-676482fd456a"
      },
      "execution_count": 13,
      "outputs": [
        {
          "output_type": "stream",
          "name": "stdout",
          "text": [
            "5.0 5 0 500 97656250000000000\n"
          ]
        }
      ]
    },
    {
      "cell_type": "markdown",
      "source": [
        "#### 문자열  \n",
        "1. 큰 따음표 : \"Hello World!\" \n",
        "2. 작은 따음표 : '대한민국'  \n",
        "3. 큰따음표 3개 : \"\"\"Hello!\"\"\"  \n",
        "4. 작은 따음표 3개 : \n",
        "'''Life is too short, Ypu need python'''  "
      ],
      "metadata": {
        "id": "bAX-QkLgmuOJ"
      }
    },
    {
      "cell_type": "code",
      "source": [
        "myName = \"Dong Lee\"  #카멜표기법(중간에 대문자)\n",
        "my_name = \"이동현\"  #스네이크표기법(언더바 사용)\n",
        "MyName = \"dddd\"  #파스칼표기법(앞에 대문자)\n",
        "_my_name = \"korea\"  \n",
        "MYNAME = \"God is love\"  \n",
        "my2name = \"12345\"  \n",
        "# 2myname = \"9876\"  불가능 앞에 숫자 불가능\n",
        "#my-name = \"michle\" 불가능 - 때문\n",
        "#my name = \"kiki\" 불가능 스페이스 때문\n",
        "myStr = '123' #srt\n",
        "myNum = 123  #int\n",
        "print(myStr, myNum)\n",
        "print(type(myStr))\n",
        "print(type(myNum))"
      ],
      "metadata": {
        "colab": {
          "base_uri": "https://localhost:8080/"
        },
        "id": "Fp_HXBMvmrPI",
        "outputId": "0b6ae3a2-1d70-4e8e-eb88-280d443eb11c"
      },
      "execution_count": 16,
      "outputs": [
        {
          "output_type": "stream",
          "name": "stdout",
          "text": [
            "123 123\n",
            "<class 'str'>\n",
            "<class 'int'>\n"
          ]
        }
      ]
    },
    {
      "cell_type": "markdown",
      "source": [
        "#### 여러개 변수 할당"
      ],
      "metadata": {
        "id": "dbHVKysRwFos"
      }
    },
    {
      "cell_type": "code",
      "source": [
        "x,y,z = \"포도\", \"딸기\", \"수박\"  \n",
        "print(x)\n",
        "print(y)\n",
        "print(z)"
      ],
      "metadata": {
        "colab": {
          "base_uri": "https://localhost:8080/"
        },
        "id": "PfQjYdEdwDpF",
        "outputId": "686180d6-ac65-4281-9aaf-80bed530460b"
      },
      "execution_count": 17,
      "outputs": [
        {
          "output_type": "stream",
          "name": "stdout",
          "text": [
            "포도\n",
            "딸기\n",
            "수박\n"
          ]
        }
      ]
    },
    {
      "cell_type": "code",
      "source": [
        "a = b = c = \"오렌지\"\n",
        "print(a)\n",
        "print(b)\n",
        "print(c)"
      ],
      "metadata": {
        "colab": {
          "base_uri": "https://localhost:8080/"
        },
        "id": "q5s8pOuYwaj0",
        "outputId": "3971d114-edc7-498c-c5a3-8b7c44e94162"
      },
      "execution_count": 18,
      "outputs": [
        {
          "output_type": "stream",
          "name": "stdout",
          "text": [
            "오렌지\n",
            "오렌지\n",
            "오렌지\n"
          ]
        }
      ]
    },
    {
      "cell_type": "code",
      "source": [
        "fruits = [\"포도\", \"딸기\", \"수박\"]\n",
        "x, y, z = fruits\n",
        "print(x)\n",
        "print(y)\n",
        "print(z)"
      ],
      "metadata": {
        "colab": {
          "base_uri": "https://localhost:8080/"
        },
        "id": "5Gr8FocHxAuM",
        "outputId": "822612e3-f6f6-4830-dc14-3b9f814f4824"
      },
      "execution_count": 20,
      "outputs": [
        {
          "output_type": "stream",
          "name": "stdout",
          "text": [
            "포도\n",
            "딸기\n",
            "수박\n"
          ]
        }
      ]
    },
    {
      "cell_type": "code",
      "source": [
        "x = \"Life\"\n",
        "y = \"is\"\n",
        "z = \"Beautiful\"\n",
        "print(x,y,z)\n",
        "print(x+y+z)"
      ],
      "metadata": {
        "colab": {
          "base_uri": "https://localhost:8080/"
        },
        "id": "-Dwk8q4rxpLM",
        "outputId": "b4f1f294-3c96-4a03-de4e-03f39c67043d"
      },
      "execution_count": 22,
      "outputs": [
        {
          "output_type": "stream",
          "name": "stdout",
          "text": [
            "Life is Beautiful\n",
            "LifeisBeautiful\n"
          ]
        }
      ]
    },
    {
      "cell_type": "code",
      "source": [
        "a = 1\n",
        "b = 2\n",
        "c = 3\n",
        "print(a,b,c)\n",
        "print(a+b+c)"
      ],
      "metadata": {
        "colab": {
          "base_uri": "https://localhost:8080/"
        },
        "id": "WcpSM_U0yPet",
        "outputId": "317204ac-5537-427e-af91-f05d3b663f85"
      },
      "execution_count": 25,
      "outputs": [
        {
          "output_type": "stream",
          "name": "stdout",
          "text": [
            "1 2 3\n",
            "6\n"
          ]
        }
      ]
    },
    {
      "cell_type": "markdown",
      "source": [
        "#### 데이터 유형  \n",
        "+ 텍스트  \n",
        "+ 숫자  \n",
        "+ 불(bool)"
      ],
      "metadata": {
        "id": "10h4ZAYkyoj-"
      }
    },
    {
      "cell_type": "code",
      "source": [
        "a = 100\n",
        "b = 200  \n",
        "sum = a+b\n",
        "k = a-b\n",
        "h = a*b\n",
        "g = a/b\n",
        "print(a, '+' , b , '=',sum)\n",
        "print(a, '-' , b , '=',k)\n",
        "print(a, '*' , b , '=',h)\n",
        "print(a, '/' , b , '=',g)"
      ],
      "metadata": {
        "colab": {
          "base_uri": "https://localhost:8080/"
        },
        "id": "yLcaSKlszNiN",
        "outputId": "6b7fb550-31d4-426c-ab11-5a3f51cd381c"
      },
      "execution_count": 28,
      "outputs": [
        {
          "output_type": "stream",
          "name": "stdout",
          "text": [
            "100 + 200 = 300\n",
            "100 - 200 = -100\n",
            "100 * 200 = 20000\n",
            "100 / 200 = 0.5\n"
          ]
        }
      ]
    },
    {
      "cell_type": "markdown",
      "source": [
        "#### input() 함수 이용한 계산기"
      ],
      "metadata": {
        "id": "Gh_5kbJdAf9_"
      }
    },
    {
      "cell_type": "code",
      "source": [
        "a = int(input(\"첫번째 숫자를 입력해 주세요: \"))\n",
        "b = int(input(\"두번째 숫자를 입력해 주세요: \"))\n",
        "result = a+b\n",
        "print(a, '+', b, '=', result)\n",
        "result = a-b\n",
        "print(a, '-', b, '=', result)\n",
        "result = a*b\n",
        "print(a, '*', b, '=', result)\n",
        "result = a/b\n",
        "print(a, '/', b, '=', result)\n",
        "result = a//b\n",
        "print(a, '//', b, '=', result)#몫\n",
        "result = a%b\n",
        "print(a, '%', b, '=', result)#나머지\n",
        "result = a**b\n",
        "print(a, '**', b, '=', result)#제곱"
      ],
      "metadata": {
        "colab": {
          "base_uri": "https://localhost:8080/"
        },
        "id": "jwzA83blAfAw",
        "outputId": "c06f9c72-2434-408d-98c8-bbf499e9e565"
      },
      "execution_count": 34,
      "outputs": [
        {
          "output_type": "stream",
          "name": "stdout",
          "text": [
            "첫번째 숫자를 입력해 주세요: 2\n",
            "두번째 숫자를 입력해 주세요: 5\n",
            "2 + 5 = 7\n",
            "2 - 5 = -3\n",
            "2 * 5 = 10\n",
            "2 / 5 = 0.4\n",
            "2 // 5 = 0\n",
            "2 % 5 = 2\n",
            "2 ** 5 = 32\n"
          ]
        }
      ]
    }
  ]
}