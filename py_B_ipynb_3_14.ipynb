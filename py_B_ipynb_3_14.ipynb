{
  "nbformat": 4,
  "nbformat_minor": 0,
  "metadata": {
    "colab": {
      "provenance": [],
      "authorship_tag": "ABX9TyO0VIhIiIXht0dCKS+04Q+l",
      "include_colab_link": true
    },
    "kernelspec": {
      "name": "python3",
      "display_name": "Python 3"
    },
    "language_info": {
      "name": "python"
    }
  },
  "cells": [
    {
      "cell_type": "markdown",
      "metadata": {
        "id": "view-in-github",
        "colab_type": "text"
      },
      "source": [
        "<a href=\"https://colab.research.google.com/github/ehdtkd6629/python/blob/main/py_B_ipynb_3_14.ipynb\" target=\"_parent\"><img src=\"https://colab.research.google.com/assets/colab-badge.svg\" alt=\"Open In Colab\"/></a>"
      ]
    },
    {
      "cell_type": "markdown",
      "source": [
        "# CH1 파이썬 문법"
      ],
      "metadata": {
        "id": "R-lymEUViVsC"
      }
    },
    {
      "cell_type": "markdown",
      "source": [
        "## 자료형\n",
        "#### 숫자형\n",
        "* 점수  :  123, -20 ,0  \n",
        "* 실수  :  123, 45, -4321.5, 6.08e9  \n",
        "* 8진수 :  0o456, 0o123  \n",
        "* 16진수 : 0xFF , 0x00, 0x0A  \n"
      ],
      "metadata": {
        "id": "p6-JrPX6iX1h"
      }
    },
    {
      "cell_type": "markdown",
      "source": [
        "#### 변수\n",
        "* 문자 또는 밑줄로 시작 (beta, _Lee)  \n",
        "* 대소문자를 구분한다 (sum. Sum. SUM)  \n",
        "* 영문자, 숫자, 밑줄(A~z, 0~9, _)  \n",
        "* 파이썬 키워드는 사용 불가  \n"
      ],
      "metadata": {
        "id": "UDjyHzKBoTww"
      }
    },
    {
      "cell_type": "code",
      "source": [
        "a = 10\n",
        "b = 20\n",
        "c = a + b\n",
        "print(c)"
      ],
      "metadata": {
        "colab": {
          "base_uri": "https://localhost:8080/"
        },
        "id": "C9w1CA9IjfCp",
        "outputId": "1f17ea34-eed5-4ef5-ae18-30ea850bae1e"
      },
      "execution_count": null,
      "outputs": [
        {
          "output_type": "stream",
          "name": "stdout",
          "text": [
            "30\n"
          ]
        }
      ]
    },
    {
      "cell_type": "code",
      "source": [
        "a = 50   \n",
        "b = 10  \n",
        "c = a/b  #나눗셈  \n",
        "d = a//b  #몫을구하기  \n",
        "e = a%b  #나머지만구하기   \n",
        "#곱셈  \n",
        "f = a*b   \n",
        "g = a**b   # 제곱  \n",
        "print(c,d,e,f,g) "
      ],
      "metadata": {
        "colab": {
          "base_uri": "https://localhost:8080/"
        },
        "id": "SXKqQGHqkvoR",
        "outputId": "634721c9-c77e-49df-9962-676482fd456a"
      },
      "execution_count": null,
      "outputs": [
        {
          "output_type": "stream",
          "name": "stdout",
          "text": [
            "5.0 5 0 500 97656250000000000\n"
          ]
        }
      ]
    },
    {
      "cell_type": "markdown",
      "source": [
        "#### 문자열  \n",
        "1. 큰 따음표 : \"Hello World!\" \n",
        "2. 작은 따음표 : '대한민국'  \n",
        "3. 큰따음표 3개 : \"\"\"Hello!\"\"\"  \n",
        "4. 작은 따음표 3개 : \n",
        "'''Life is too short, Ypu need python'''  "
      ],
      "metadata": {
        "id": "bAX-QkLgmuOJ"
      }
    },
    {
      "cell_type": "code",
      "source": [
        "myName = \"Dong Lee\"  #카멜표기법(중간에 대문자)\n",
        "my_name = \"이동현\"  #스네이크표기법(언더바 사용)\n",
        "MyName = \"dddd\"  #파스칼표기법(앞에 대문자)\n",
        "_my_name = \"korea\"  \n",
        "MYNAME = \"God is love\"  \n",
        "my2name = \"12345\"  \n",
        "# 2myname = \"9876\"  불가능 앞에 숫자 불가능\n",
        "#my-name = \"michle\" 불가능 - 때문\n",
        "#my name = \"kiki\" 불가능 스페이스 때문\n",
        "myStr = '123' #srt\n",
        "myNum = 123  #int\n",
        "print(myStr, myNum)\n",
        "print(type(myStr))\n",
        "print(type(myNum))"
      ],
      "metadata": {
        "colab": {
          "base_uri": "https://localhost:8080/"
        },
        "id": "Fp_HXBMvmrPI",
        "outputId": "0b6ae3a2-1d70-4e8e-eb88-280d443eb11c"
      },
      "execution_count": null,
      "outputs": [
        {
          "output_type": "stream",
          "name": "stdout",
          "text": [
            "123 123\n",
            "<class 'str'>\n",
            "<class 'int'>\n"
          ]
        }
      ]
    },
    {
      "cell_type": "markdown",
      "source": [
        "#### 여러개 변수 할당"
      ],
      "metadata": {
        "id": "dbHVKysRwFos"
      }
    },
    {
      "cell_type": "code",
      "source": [
        "x,y,z = \"포도\", \"딸기\", \"수박\"  \n",
        "print(x)\n",
        "print(y)\n",
        "print(z)"
      ],
      "metadata": {
        "colab": {
          "base_uri": "https://localhost:8080/"
        },
        "id": "PfQjYdEdwDpF",
        "outputId": "686180d6-ac65-4281-9aaf-80bed530460b"
      },
      "execution_count": null,
      "outputs": [
        {
          "output_type": "stream",
          "name": "stdout",
          "text": [
            "포도\n",
            "딸기\n",
            "수박\n"
          ]
        }
      ]
    },
    {
      "cell_type": "code",
      "source": [
        "a = b = c = \"오렌지\"\n",
        "print(a)\n",
        "print(b)\n",
        "print(c)"
      ],
      "metadata": {
        "colab": {
          "base_uri": "https://localhost:8080/"
        },
        "id": "q5s8pOuYwaj0",
        "outputId": "3971d114-edc7-498c-c5a3-8b7c44e94162"
      },
      "execution_count": null,
      "outputs": [
        {
          "output_type": "stream",
          "name": "stdout",
          "text": [
            "오렌지\n",
            "오렌지\n",
            "오렌지\n"
          ]
        }
      ]
    },
    {
      "cell_type": "code",
      "source": [
        "fruits = [\"포도\", \"딸기\", \"수박\"]\n",
        "x, y, z = fruits\n",
        "print(x)\n",
        "print(y)\n",
        "print(z)"
      ],
      "metadata": {
        "colab": {
          "base_uri": "https://localhost:8080/"
        },
        "id": "5Gr8FocHxAuM",
        "outputId": "822612e3-f6f6-4830-dc14-3b9f814f4824"
      },
      "execution_count": null,
      "outputs": [
        {
          "output_type": "stream",
          "name": "stdout",
          "text": [
            "포도\n",
            "딸기\n",
            "수박\n"
          ]
        }
      ]
    },
    {
      "cell_type": "code",
      "source": [
        "x = \"Life\"\n",
        "y = \"is\"\n",
        "z = \"Beautiful\"\n",
        "print(x,y,z)\n",
        "print(x+y+z)"
      ],
      "metadata": {
        "colab": {
          "base_uri": "https://localhost:8080/"
        },
        "id": "-Dwk8q4rxpLM",
        "outputId": "b4f1f294-3c96-4a03-de4e-03f39c67043d"
      },
      "execution_count": null,
      "outputs": [
        {
          "output_type": "stream",
          "name": "stdout",
          "text": [
            "Life is Beautiful\n",
            "LifeisBeautiful\n"
          ]
        }
      ]
    },
    {
      "cell_type": "code",
      "source": [
        "a = 1\n",
        "b = 2\n",
        "c = 3\n",
        "print(a,b,c)\n",
        "print(a+b+c)"
      ],
      "metadata": {
        "colab": {
          "base_uri": "https://localhost:8080/"
        },
        "id": "WcpSM_U0yPet",
        "outputId": "317204ac-5537-427e-af91-f05d3b663f85"
      },
      "execution_count": null,
      "outputs": [
        {
          "output_type": "stream",
          "name": "stdout",
          "text": [
            "1 2 3\n",
            "6\n"
          ]
        }
      ]
    },
    {
      "cell_type": "markdown",
      "source": [
        "#### 데이터 유형  \n",
        "+ 텍스트  \n",
        "+ 숫자  \n",
        "+ 불(bool)"
      ],
      "metadata": {
        "id": "10h4ZAYkyoj-"
      }
    },
    {
      "cell_type": "code",
      "source": [
        "a = 100\n",
        "b = 200  \n",
        "sum = a+b\n",
        "k = a-b\n",
        "h = a*b\n",
        "g = a/b\n",
        "print(a, '+' , b , '=',sum)\n",
        "print(a, '-' , b , '=',k)\n",
        "print(a, '*' , b , '=',h)\n",
        "print(a, '/' , b , '=',g)"
      ],
      "metadata": {
        "colab": {
          "base_uri": "https://localhost:8080/"
        },
        "id": "yLcaSKlszNiN",
        "outputId": "6b7fb550-31d4-426c-ab11-5a3f51cd381c"
      },
      "execution_count": null,
      "outputs": [
        {
          "output_type": "stream",
          "name": "stdout",
          "text": [
            "100 + 200 = 300\n",
            "100 - 200 = -100\n",
            "100 * 200 = 20000\n",
            "100 / 200 = 0.5\n"
          ]
        }
      ]
    },
    {
      "cell_type": "markdown",
      "source": [
        "#### input() 함수 이용한 계산기"
      ],
      "metadata": {
        "id": "Gh_5kbJdAf9_"
      }
    },
    {
      "cell_type": "code",
      "source": [
        "a = int(input(\"첫번째 숫자를 입력해 주세요: \"))\n",
        "b = int(input(\"두번째 숫자를 입력해 주세요: \"))\n",
        "result = a+b\n",
        "print(a, '+', b, '=', result)\n",
        "result = a-b\n",
        "print(a, '-', b, '=', result)\n",
        "result = a*b\n",
        "print(a, '*', b, '=', result)\n",
        "result = a/b\n",
        "print(a, '/', b, '=', result)\n",
        "result = a//b\n",
        "print(a, '//', b, '=', result)#몫\n",
        "result = a%b\n",
        "print(a, '%', b, '=', result)#나머지\n",
        "result = a**b\n",
        "print(a, '**', b, '=', result)#제곱"
      ],
      "metadata": {
        "colab": {
          "base_uri": "https://localhost:8080/"
        },
        "id": "jwzA83blAfAw",
        "outputId": "c06f9c72-2434-408d-98c8-bbf499e9e565"
      },
      "execution_count": null,
      "outputs": [
        {
          "output_type": "stream",
          "name": "stdout",
          "text": [
            "첫번째 숫자를 입력해 주세요: 2\n",
            "두번째 숫자를 입력해 주세요: 5\n",
            "2 + 5 = 7\n",
            "2 - 5 = -3\n",
            "2 * 5 = 10\n",
            "2 / 5 = 0.4\n",
            "2 // 5 = 0\n",
            "2 % 5 = 2\n",
            "2 ** 5 = 32\n"
          ]
        }
      ]
    },
    {
      "cell_type": "code",
      "source": [
        "num1 = input(\"숫자입력1: \")\n",
        "num2 = input(\"숫자입력2: \")\n",
        "result = num1 + num2\n",
        "print(type(num1))\n",
        "print(num1, \"+\", num2, \"=\", result)"
      ],
      "metadata": {
        "colab": {
          "base_uri": "https://localhost:8080/"
        },
        "id": "dgeSf4DNDehA",
        "outputId": "b5bc9723-92ee-470a-bc98-a70852537ca9"
      },
      "execution_count": null,
      "outputs": [
        {
          "output_type": "stream",
          "name": "stdout",
          "text": [
            "숫자입력1: 100\n",
            "숫자입력2: 200\n",
            "<class 'str'>\n",
            "100 + 200 = 100200\n"
          ]
        }
      ]
    },
    {
      "cell_type": "markdown",
      "source": [
        "전화번호, 이름, 무게를 입력받아 출력:  \n",
        "입력한 내용은 이름 \"00\", 전화번호 \"00\" 입니다.  \n",
        "무게는 입력한 g수 x 10원 = 산출  \n",
        "금액 출력  "
      ],
      "metadata": {
        "id": "rV7ohre9Eov_"
      }
    },
    {
      "cell_type": "code",
      "source": [
        "a=input(\"전화번호를 입력하세요: \")\n",
        "b=input(\"이름을 입력하세요: \")\n",
        "c=int(input(\"무게를 입력하세요: \"))\n",
        "result=a\n",
        "print(\"전화번호는\",result,\"입니다\" )\n",
        "result=b\n",
        "print(\"이름은\",result,\"입니다\" )\n",
        "result=c\n",
        "print(\"무게는\",result,\"g입니다\" )\n",
        "result=c*10\n",
        "print(\"산출금액은\",result,\"원입니다\" )"
      ],
      "metadata": {
        "colab": {
          "base_uri": "https://localhost:8080/"
        },
        "id": "FhN7T3qkEnyv",
        "outputId": "ce4821dd-4f64-4216-b539-c8e344fa357f"
      },
      "execution_count": null,
      "outputs": [
        {
          "output_type": "stream",
          "name": "stdout",
          "text": [
            "전화번호를 입력하세요: 0000\n",
            "이름을 입력하세요: 이동현\n",
            "무게를 입력하세요: 10\n",
            "전화번호는 0000 입니다\n",
            "이름은 이동현 입니다\n",
            "무게는 10 g입니다\n",
            "산출금액은 100 원입니다\n"
          ]
        }
      ]
    },
    {
      "cell_type": "code",
      "source": [
        "score = int(input(\"점수를 입력해 주세요 : \"))\n",
        "if (score > 100):\n",
        "  print(\"0~100까지의 숫자로 입력해주세요.\")\n",
        "else:\n",
        "  if(score >= 90):\n",
        "    print(\"A\")\n",
        "  elif(score >= 80):\n",
        "    print(\"B\")\n",
        "  elif(score >= 70):\n",
        "    print(\"C\")\n",
        "  elif(score >= 60):\n",
        "    print(\"D\")\n",
        "  else:\n",
        "      print(\"F\")\n",
        "      print(\"학점. 점수: %3d\" %score)"
      ],
      "metadata": {
        "colab": {
          "base_uri": "https://localhost:8080/"
        },
        "id": "lAMJY3WowtMP",
        "outputId": "d0d17433-5e34-4f8f-d541-aef647fba51c"
      },
      "execution_count": null,
      "outputs": [
        {
          "output_type": "stream",
          "name": "stdout",
          "text": [
            "점수를 입력해 주세요 : 50\n",
            "F\n",
            "학점입니다.\n"
          ]
        }
      ]
    },
    {
      "cell_type": "code",
      "source": [],
      "metadata": {
        "id": "XESg4nqw11JA"
      },
      "execution_count": null,
      "outputs": []
    },
    {
      "cell_type": "markdown",
      "source": [
        "#### CH4 조건문, 반복문"
      ],
      "metadata": {
        "id": "qgRJyIR_1wM3"
      }
    },
    {
      "cell_type": "code",
      "source": [
        "import random\n",
        "\n",
        "numbers = []\n",
        "for num in range(0,10):\n",
        "    numbers.append(random.randrange(0,10))\n",
        "\n",
        "print(\"생성된 리스트\", numbers)\n",
        "\n",
        "for num in range(0,10):\n",
        "  if num not in numbers:\n",
        "    print(\"숫자 %d는 리스트에 없습니다.\"%num)\n",
        "  else:\n",
        "    print(\"숫자 %d는 리스트에 있습니다.\"%num)"
      ],
      "metadata": {
        "colab": {
          "base_uri": "https://localhost:8080/"
        },
        "id": "-Sm4E6g3zeAX",
        "outputId": "bea93280-648d-497b-e5f4-61680011ff58"
      },
      "execution_count": null,
      "outputs": [
        {
          "output_type": "stream",
          "name": "stdout",
          "text": [
            "생성된 리스트 [0, 3, 8, 3, 9, 6, 7, 2, 0, 9]\n",
            "숫자 0는 리스트에 있습니다.\n",
            "숫자 1는 리스트에 없습니다.\n",
            "숫자 2는 리스트에 있습니다.\n",
            "숫자 3는 리스트에 있습니다.\n",
            "숫자 4는 리스트에 없습니다.\n",
            "숫자 5는 리스트에 없습니다.\n",
            "숫자 6는 리스트에 있습니다.\n",
            "숫자 7는 리스트에 있습니다.\n",
            "숫자 8는 리스트에 있습니다.\n",
            "숫자 9는 리스트에 있습니다.\n"
          ]
        }
      ]
    },
    {
      "cell_type": "code",
      "source": [
        "select, answer, numStr, num1, num2 = 0,0,\"\",0,0\n",
        "select = int(input(\"1.입력한 수식 계산 2.두수의 합계: \"))\n",
        "\n",
        "if select ==1:\n",
        "  numStr = input(\"*** 수식을 입력하세요(1+2) : \")\n",
        "  answer = eval(numStr) # 1+2. \"string\"\"+\"str\"\n",
        "  print(\" %s 결과는 %5.1f입니다. \" %(numStr,answer))\n",
        "elif select == 2:\n",
        "  num1 = int(input(\"*** 첫번째 숫자를 입력하세요 : \"))\n",
        "  num2 = int(input(\"*** 두번째 숫자를 입력하세요 : \"))\n",
        "  for i in range(num1,num2+1):\n",
        "    answer = answer + i\n",
        "  print(\"%d+%d는 %d입니다. \" %(num1,num2,answer))\n",
        "else:\n",
        "  print(\"1또는 2만 입력해야 합니다.\")"
      ],
      "metadata": {
        "colab": {
          "base_uri": "https://localhost:8080/"
        },
        "id": "AeJX-9pt5hea",
        "outputId": "06df7185-f160-4ebb-aabf-c45d60e0d91c"
      },
      "execution_count": null,
      "outputs": [
        {
          "output_type": "stream",
          "name": "stdout",
          "text": [
            "1.입력한 수식 계산 2.두수의 합계: 2\n",
            "*** 첫번째 숫자를 입력하세요 : 1\n",
            "*** 두번째 숫자를 입력하세요 : 2\n",
            "1+2는 3입니다. \n"
          ]
        }
      ]
    },
    {
      "cell_type": "markdown",
      "source": [
        "### for & while 반복문\n"
      ],
      "metadata": {
        "id": "xhhiuTr0-hxT"
      }
    },
    {
      "cell_type": "code",
      "source": [
        "for i in range(0,3,1):\n",
        "  print(\"안녕!\")"
      ],
      "metadata": {
        "colab": {
          "base_uri": "https://localhost:8080/"
        },
        "id": "GvuyUEww-ol6",
        "outputId": "4f2e5964-7333-455b-8e74-4b1e582b0b43"
      },
      "execution_count": null,
      "outputs": [
        {
          "output_type": "stream",
          "name": "stdout",
          "text": [
            "안녕!\n",
            "안녕!\n",
            "안녕!\n"
          ]
        }
      ]
    },
    {
      "cell_type": "code",
      "source": [
        "for i in [0,3,1]:\n",
        "  print(\"안녕!\")"
      ],
      "metadata": {
        "colab": {
          "base_uri": "https://localhost:8080/"
        },
        "id": "TDr1kVVh-oB6",
        "outputId": "2a204d67-79b5-4075-81c9-8d76d703ef95"
      },
      "execution_count": null,
      "outputs": [
        {
          "output_type": "stream",
          "name": "stdout",
          "text": [
            "안녕!\n",
            "안녕!\n",
            "안녕!\n"
          ]
        }
      ]
    },
    {
      "cell_type": "code",
      "source": [
        "for i in range(0,3,1):\n",
        "  for j in range(0,5,1):\n",
        "    print(\"i:%d, j:%d\" %(i,j))"
      ],
      "metadata": {
        "colab": {
          "base_uri": "https://localhost:8080/"
        },
        "id": "QSJUM0JCAZzL",
        "outputId": "c707a7b4-ce61-4911-caf6-9e9c94e60676"
      },
      "execution_count": null,
      "outputs": [
        {
          "output_type": "stream",
          "name": "stdout",
          "text": [
            "i:0, j:0\n",
            "i:0, j:1\n",
            "i:0, j:2\n",
            "i:0, j:3\n",
            "i:0, j:4\n",
            "i:1, j:0\n",
            "i:1, j:1\n",
            "i:1, j:2\n",
            "i:1, j:3\n",
            "i:1, j:4\n",
            "i:2, j:0\n",
            "i:2, j:1\n",
            "i:2, j:2\n",
            "i:2, j:3\n",
            "i:2, j:4\n"
          ]
        }
      ]
    },
    {
      "cell_type": "code",
      "source": [
        "i,j = 0,0\n",
        "for i in range(2,10,1):\n",
        "  for j in range(1,10,1):\n",
        "    print(\"%d x %d = %2d\" %(i,j,i*j), end='' )\n",
        "  print(\"\")"
      ],
      "metadata": {
        "colab": {
          "base_uri": "https://localhost:8080/"
        },
        "id": "yl41r4xLBQas",
        "outputId": "b0315a93-99e5-4e4c-97ff-c22585f1a127"
      },
      "execution_count": null,
      "outputs": [
        {
          "output_type": "stream",
          "name": "stdout",
          "text": [
            "2 x 1 =  22 x 2 =  42 x 3 =  62 x 4 =  82 x 5 = 102 x 6 = 122 x 7 = 142 x 8 = 162 x 9 = 18\n",
            "3 x 1 =  33 x 2 =  63 x 3 =  93 x 4 = 123 x 5 = 153 x 6 = 183 x 7 = 213 x 8 = 243 x 9 = 27\n",
            "4 x 1 =  44 x 2 =  84 x 3 = 124 x 4 = 164 x 5 = 204 x 6 = 244 x 7 = 284 x 8 = 324 x 9 = 36\n",
            "5 x 1 =  55 x 2 = 105 x 3 = 155 x 4 = 205 x 5 = 255 x 6 = 305 x 7 = 355 x 8 = 405 x 9 = 45\n",
            "6 x 1 =  66 x 2 = 126 x 3 = 186 x 4 = 246 x 5 = 306 x 6 = 366 x 7 = 426 x 8 = 486 x 9 = 54\n",
            "7 x 1 =  77 x 2 = 147 x 3 = 217 x 4 = 287 x 5 = 357 x 6 = 427 x 7 = 497 x 8 = 567 x 9 = 63\n",
            "8 x 1 =  88 x 2 = 168 x 3 = 248 x 4 = 328 x 5 = 408 x 6 = 488 x 7 = 568 x 8 = 648 x 9 = 72\n",
            "9 x 1 =  99 x 2 = 189 x 3 = 279 x 4 = 369 x 5 = 459 x 6 = 549 x 7 = 639 x 8 = 729 x 9 = 81\n"
          ]
        }
      ]
    },
    {
      "cell_type": "code",
      "source": [
        "i = 0\n",
        "while i<3:\n",
        "  print(\"%d : while문\" %i)\n",
        "  i = i+1"
      ],
      "metadata": {
        "colab": {
          "base_uri": "https://localhost:8080/"
        },
        "id": "N3a2Cr6GCdmz",
        "outputId": "503f2163-80bc-486d-99c8-a73902ce5a05"
      },
      "execution_count": null,
      "outputs": [
        {
          "output_type": "stream",
          "name": "stdout",
          "text": [
            "0 : while문\n",
            "1 : while문\n",
            "2 : while문\n"
          ]
        }
      ]
    },
    {
      "cell_type": "code",
      "source": [
        "# 0부터 10까지 합계를 while\n",
        "i, hap = 0,0\n",
        "i = 1\n",
        "while i<11:\n",
        "  hap = hap + i\n",
        "  i=i+1\n",
        "\n",
        "print(\"1부터 10까지의 합계: %d\" %hap)"
      ],
      "metadata": {
        "colab": {
          "base_uri": "https://localhost:8080/"
        },
        "id": "1xfjpAEnC6ia",
        "outputId": "e9262419-5589-43bf-8be4-ae2280697e9e"
      },
      "execution_count": null,
      "outputs": [
        {
          "output_type": "stream",
          "name": "stdout",
          "text": [
            "1부터 10까지의 합계: 55\n"
          ]
        }
      ]
    },
    {
      "cell_type": "code",
      "source": [
        "#0부터 10까지의 합계를 for문으로\n",
        "i, hap =0,0\n",
        "for i in range(1,11,1):\n",
        "  hap = hap+i\n",
        "\n",
        "print(\"1부터 10까지의 합계: %d\" %hap)"
      ],
      "metadata": {
        "colab": {
          "base_uri": "https://localhost:8080/"
        },
        "id": "s59g0INSDnPL",
        "outputId": "f7f4aaf4-6367-4a79-d28c-2f4a6ba20a33"
      },
      "execution_count": null,
      "outputs": [
        {
          "output_type": "stream",
          "name": "stdout",
          "text": [
            "1부터 10까지의 합계: 55\n"
          ]
        }
      ]
    },
    {
      "cell_type": "code",
      "source": [
        "while True:\n",
        "  print(\"무한 루프ㅠㅠ \", end='')"
      ],
      "metadata": {
        "id": "suuwjwRZEPlz"
      },
      "execution_count": null,
      "outputs": []
    },
    {
      "cell_type": "code",
      "source": [
        "# break  (시험)\n",
        "for i in range(1,100):\n",
        "  print(\"for문 %d번 실험\" %i)\n",
        "  break\n",
        "print(\"break 빠짐\")"
      ],
      "metadata": {
        "colab": {
          "base_uri": "https://localhost:8080/"
        },
        "id": "fEBqAFs-EwQj",
        "outputId": "f158e9e6-ec5a-4f12-94d5-201f4d92b81c"
      },
      "execution_count": null,
      "outputs": [
        {
          "output_type": "stream",
          "name": "stdout",
          "text": [
            "for문 1번 실험\n",
            "break 빠짐\n"
          ]
        }
      ]
    },
    {
      "cell_type": "code",
      "source": [
        "hap = 0\n",
        "a,b = 0,0\n",
        "while True:\n",
        "  a = int(input(\"덧셉 첫번째 수 입력: \"))\n",
        "  if a==0:\n",
        "    break\n",
        "  b = int(input(\"덧셉 두번째 수 입력: \"))\n",
        "  hap = a + b\n",
        "  print(\"%d + %d = %d\" %(a,b,hap))\n",
        "\n",
        "print(\"break로 탈출\")"
      ],
      "metadata": {
        "colab": {
          "base_uri": "https://localhost:8080/"
        },
        "id": "Q9_bBiHuFYNz",
        "outputId": "00c792d1-e3ab-4ec2-a4f3-d4f79931dc79"
      },
      "execution_count": null,
      "outputs": [
        {
          "output_type": "stream",
          "name": "stdout",
          "text": [
            "덧셉 첫번째 수 입력: 1\n",
            "덧셉 두번째 수 입력: 2\n",
            "1 + 2 = 3\n",
            "덧셉 첫번째 수 입력: 1\n",
            "덧셉 두번째 수 입력: 2\n",
            "1 + 2 = 3\n",
            "덧셉 첫번째 수 입력: 0\n",
            "break로 탈출\n"
          ]
        }
      ]
    },
    {
      "cell_type": "code",
      "source": [
        "# continue   (시험)\n",
        "hap, i = 0,0\n",
        "for i in range(1,11):\n",
        "  if i % 2 == 0:\n",
        "    print(\"i:%d\" %i)\n",
        "    continue\n",
        "  hap += i\n",
        "\n",
        "print(\"1~10 합계(3의 배수 제외): %d\" %hap)"
      ],
      "metadata": {
        "colab": {
          "base_uri": "https://localhost:8080/"
        },
        "id": "Z8MHhkxLHKEq",
        "outputId": "e97be80b-642e-4e68-c719-756420ab0501"
      },
      "execution_count": null,
      "outputs": [
        {
          "output_type": "stream",
          "name": "stdout",
          "text": [
            "i:2\n",
            "i:4\n",
            "i:6\n",
            "i:8\n",
            "i:10\n",
            "1~10 합계(3의 배수 제외): 25\n"
          ]
        }
      ]
    },
    {
      "cell_type": "code",
      "source": [
        "# continue\n",
        "hap, i = 0,0\n",
        "for i in range(1,101):\n",
        "  if i % 3 == 0:\n",
        "    continue\n",
        "  hap += i\n",
        "\n",
        "print(\"1~100 합계(3의 배수 제외): %d\" %hap)"
      ],
      "metadata": {
        "colab": {
          "base_uri": "https://localhost:8080/"
        },
        "id": "7QoF_GsPGQ_L",
        "outputId": "4f187ed8-7adb-4ffe-c790-e7849257ed76"
      },
      "execution_count": null,
      "outputs": [
        {
          "output_type": "stream",
          "name": "stdout",
          "text": [
            "1~100 합계(3의 배수 제외): 3367\n"
          ]
        }
      ]
    },
    {
      "cell_type": "code",
      "source": [
        "fruits = [\"사과\",\"바나나\",\"체리\"]\n",
        "for x in fruits:\n",
        "  if x == \"바나나\":\n",
        "    continue\n",
        "  print(x)"
      ],
      "metadata": {
        "colab": {
          "base_uri": "https://localhost:8080/"
        },
        "id": "wjb3AwtnIBlL",
        "outputId": "f441582e-dfb7-41cb-99e2-ef3a1138c962"
      },
      "execution_count": null,
      "outputs": [
        {
          "output_type": "stream",
          "name": "stdout",
          "text": [
            "사과\n",
            "체리\n"
          ]
        }
      ]
    },
    {
      "cell_type": "code",
      "source": [
        "for x in range(6):\n",
        "  print(x)\n",
        "else:\n",
        "  print(\"끝\")"
      ],
      "metadata": {
        "colab": {
          "base_uri": "https://localhost:8080/"
        },
        "id": "l8o0eYHrImHD",
        "outputId": "215174ed-445b-494a-ede8-b772e76d5411"
      },
      "execution_count": null,
      "outputs": [
        {
          "output_type": "stream",
          "name": "stdout",
          "text": [
            "0\n",
            "1\n",
            "2\n",
            "3\n",
            "4\n",
            "5\n",
            "끝\n"
          ]
        }
      ]
    },
    {
      "cell_type": "code",
      "source": [
        "for x in range(6):\n",
        "  if x == 3:\n",
        "   break\n",
        "  print(x)\n",
        "else:\n",
        "  print(\"끝\")"
      ],
      "metadata": {
        "colab": {
          "base_uri": "https://localhost:8080/"
        },
        "id": "jx5SN07iJgJ6",
        "outputId": "01ba30a2-077b-48aa-b871-49f72badd9bd"
      },
      "execution_count": null,
      "outputs": [
        {
          "output_type": "stream",
          "name": "stdout",
          "text": [
            "0\n",
            "1\n",
            "2\n"
          ]
        }
      ]
    },
    {
      "cell_type": "code",
      "source": [
        "# for문 루프는 비워 둘수 없음\n",
        "for x in [0,1,2]:\n",
        "  pass"
      ],
      "metadata": {
        "id": "YWa6X91jKBKD"
      },
      "execution_count": null,
      "outputs": []
    },
    {
      "cell_type": "markdown",
      "source": [
        "###함수"
      ],
      "metadata": {
        "id": "C0NT8z4tLwml"
      }
    },
    {
      "cell_type": "code",
      "source": [
        "# 두수를 더하는 함수 \n",
        "def plus(v1,v2):\n",
        "  result = 0\n",
        "  result = v1 + v2\n",
        "  return result\n",
        "hap = 0\n",
        "hap = plus(10,20)\n",
        "print(\"10+20 plus() 처리 결과는 %d\" %hap)\n",
        "hap = plus(20,20)\n",
        "print(\"20+20 plus() 처리 결과는 %d\" %hap)"
      ],
      "metadata": {
        "colab": {
          "base_uri": "https://localhost:8080/"
        },
        "id": "dWqpMTBxLySr",
        "outputId": "7481ade4-6b6b-4744-9dbb-125eb6b2b0c3"
      },
      "execution_count": null,
      "outputs": [
        {
          "output_type": "stream",
          "name": "stdout",
          "text": [
            "10+20 plus() 처리 결과는 30\n",
            "20+20 plus() 처리 결과는 40\n"
          ]
        }
      ]
    },
    {
      "cell_type": "code",
      "source": [
        "# 계산기 코드\n",
        "def calc(v1,v2,op):\n",
        "  result = 0\n",
        "  if op == '+':\n",
        "    result = v1 + v2\n",
        "  elif op == '-':\n",
        "    result = v1 - v2\n",
        "  elif op == '*':\n",
        "    result = v1 * v2\n",
        "  elif op == '/':\n",
        "    result = v1 / v2\n",
        "    return result\n",
        "\n",
        "  rst = 0\n",
        "  var1, var2, opr = 0,0,\"\"\n",
        "\n",
        "  opr = input(\"(+,-,*,/) 입력: \")\n",
        "  var1 = int(input(\"1번째 수 입력: \"))\n",
        "  var2 = int(input(\"2번째 수 입력: \"))\n",
        "  rst = calc(var1,var2,opr)\n",
        "  \n",
        "  print(\"계산기 %d %s %d= %d\" %(var1,opr,var2,rst))"
      ],
      "metadata": {
        "id": "qaeb0UARMtSz"
      },
      "execution_count": null,
      "outputs": []
    },
    {
      "cell_type": "markdown",
      "source": [
        "# Q : 0으로 나누려고하면 메시지 출력 계산 되지 않게, ** 제곱 연산자 추가(숫자1, 연산자, 숫자2) 계산기 함수 만들기\n",
        "break,continue 사용하면 될듯"
      ],
      "metadata": {
        "id": "QkBieLpgP-MT"
      }
    },
    {
      "cell_type": "code",
      "source": [
        "#과제\n",
        "def calc(v1, v2, op):\n",
        "    if op == '+':\n",
        "        return v1 + v2\n",
        "    elif op == '-':\n",
        "        return v1 - v2\n",
        "    elif op == '*':\n",
        "        return v1 * v2\n",
        "    elif op == '/':\n",
        "        return v1 / v2\n",
        "    elif op == '**':\n",
        "        return v1 ** v2\n",
        "opr = input(\"(+,-,*,/,**) 입력: \")\n",
        "var1 = float(input(\"1번째 수 입력: \"))\n",
        "var2 = float(input(\"2번째 수 입력: \"))\n",
        "\n",
        "result = calc(var1, var2, opr)\n",
        "\n",
        "print(f\"{var1} {opr} {var2} = {result}\")\n"
      ],
      "metadata": {
        "colab": {
          "base_uri": "https://localhost:8080/"
        },
        "id": "77AvQssAQktb",
        "outputId": "8e119f9e-b25c-4f10-844d-34a93f530094"
      },
      "execution_count": null,
      "outputs": [
        {
          "output_type": "stream",
          "name": "stdout",
          "text": [
            "(+,-,*,/,**) 입력: /\n",
            "1번째 수 입력: 0\n",
            "2번째 수 입력: 1\n",
            "0.0 / 1.0 = 0.0\n"
          ]
        }
      ]
    },
    {
      "cell_type": "code",
      "source": [
        "# 전역 변수와 지역변수 \n",
        "def func1():\n",
        "  a = 10 # 지역변수\n",
        "  print(\"func1()에서 값 %d\" %a)\n",
        "\n",
        "def func2():\n",
        "  print(\"func2()에서 값 %d\" %a)\n",
        "\n",
        "a = 20 # 전역 변수\n",
        "func1()\n",
        "func2()"
      ],
      "metadata": {
        "colab": {
          "base_uri": "https://localhost:8080/"
        },
        "id": "eXY-j0cdQ-0r",
        "outputId": "bba03ab3-9891-443b-c739-8537f730ace1"
      },
      "execution_count": null,
      "outputs": [
        {
          "output_type": "stream",
          "name": "stdout",
          "text": [
            "func1()에서 값 10\n",
            "func2()에서 값 20\n"
          ]
        }
      ]
    },
    {
      "cell_type": "markdown",
      "source": [
        "# Ch5 파일 처리  \n",
        "\"r\" read  \n",
        "\"a\" append  \n",
        "\"w\" write  \n",
        "\"x\" create  \n",
        "\"t\" text  \n",
        "\"b\" binary\n"
      ],
      "metadata": {
        "id": "rgBOXgi0v5PU"
      }
    },
    {
      "cell_type": "code",
      "source": [
        "# w\n",
        "from google.colab import files\n",
        "\n",
        "f = open(\"a.txt\",'w')\n",
        "f.write(\"12345\")\n",
        "f.close()\n",
        "\n",
        "f = open(\"a.txt\",'w')  #write\n",
        "f.write(\"abcde\")\n",
        "f.close()\n",
        "\n",
        "files.download('a.txt')"
      ],
      "metadata": {
        "id": "7QgrYlfCwSv0",
        "outputId": "54cb25ee-b9bc-4c61-c324-c0a5823ca592",
        "colab": {
          "base_uri": "https://localhost:8080/",
          "height": 17
        }
      },
      "execution_count": null,
      "outputs": [
        {
          "output_type": "display_data",
          "data": {
            "text/plain": [
              "<IPython.core.display.Javascript object>"
            ],
            "application/javascript": [
              "\n",
              "    async function download(id, filename, size) {\n",
              "      if (!google.colab.kernel.accessAllowed) {\n",
              "        return;\n",
              "      }\n",
              "      const div = document.createElement('div');\n",
              "      const label = document.createElement('label');\n",
              "      label.textContent = `Downloading \"${filename}\": `;\n",
              "      div.appendChild(label);\n",
              "      const progress = document.createElement('progress');\n",
              "      progress.max = size;\n",
              "      div.appendChild(progress);\n",
              "      document.body.appendChild(div);\n",
              "\n",
              "      const buffers = [];\n",
              "      let downloaded = 0;\n",
              "\n",
              "      const channel = await google.colab.kernel.comms.open(id);\n",
              "      // Send a message to notify the kernel that we're ready.\n",
              "      channel.send({})\n",
              "\n",
              "      for await (const message of channel.messages) {\n",
              "        // Send a message to notify the kernel that we're ready.\n",
              "        channel.send({})\n",
              "        if (message.buffers) {\n",
              "          for (const buffer of message.buffers) {\n",
              "            buffers.push(buffer);\n",
              "            downloaded += buffer.byteLength;\n",
              "            progress.value = downloaded;\n",
              "          }\n",
              "        }\n",
              "      }\n",
              "      const blob = new Blob(buffers, {type: 'application/binary'});\n",
              "      const a = document.createElement('a');\n",
              "      a.href = window.URL.createObjectURL(blob);\n",
              "      a.download = filename;\n",
              "      div.appendChild(a);\n",
              "      a.click();\n",
              "      div.remove();\n",
              "    }\n",
              "  "
            ]
          },
          "metadata": {}
        },
        {
          "output_type": "display_data",
          "data": {
            "text/plain": [
              "<IPython.core.display.Javascript object>"
            ],
            "application/javascript": [
              "download(\"download_6e306d38-d830-457b-929c-c93b912c962c\", \"a.txt\", 5)"
            ]
          },
          "metadata": {}
        }
      ]
    },
    {
      "cell_type": "code",
      "source": [
        "from google.colab import files\n",
        "\n",
        "f = open(\"a.txt\",'w')\n",
        "f.write(\"12345\")\n",
        "f.close()\n",
        "\n",
        "f = open(\"a.txt\",'a') #append\n",
        "f.write(\"6789\")\n",
        "f.close()\n",
        "\n",
        "files.download('a.txt')"
      ],
      "metadata": {
        "id": "7J_5ux89yHkM",
        "outputId": "bc44e670-4586-4577-a104-87cebbcc6b12",
        "colab": {
          "base_uri": "https://localhost:8080/",
          "height": 17
        }
      },
      "execution_count": null,
      "outputs": [
        {
          "output_type": "display_data",
          "data": {
            "text/plain": [
              "<IPython.core.display.Javascript object>"
            ],
            "application/javascript": [
              "\n",
              "    async function download(id, filename, size) {\n",
              "      if (!google.colab.kernel.accessAllowed) {\n",
              "        return;\n",
              "      }\n",
              "      const div = document.createElement('div');\n",
              "      const label = document.createElement('label');\n",
              "      label.textContent = `Downloading \"${filename}\": `;\n",
              "      div.appendChild(label);\n",
              "      const progress = document.createElement('progress');\n",
              "      progress.max = size;\n",
              "      div.appendChild(progress);\n",
              "      document.body.appendChild(div);\n",
              "\n",
              "      const buffers = [];\n",
              "      let downloaded = 0;\n",
              "\n",
              "      const channel = await google.colab.kernel.comms.open(id);\n",
              "      // Send a message to notify the kernel that we're ready.\n",
              "      channel.send({})\n",
              "\n",
              "      for await (const message of channel.messages) {\n",
              "        // Send a message to notify the kernel that we're ready.\n",
              "        channel.send({})\n",
              "        if (message.buffers) {\n",
              "          for (const buffer of message.buffers) {\n",
              "            buffers.push(buffer);\n",
              "            downloaded += buffer.byteLength;\n",
              "            progress.value = downloaded;\n",
              "          }\n",
              "        }\n",
              "      }\n",
              "      const blob = new Blob(buffers, {type: 'application/binary'});\n",
              "      const a = document.createElement('a');\n",
              "      a.href = window.URL.createObjectURL(blob);\n",
              "      a.download = filename;\n",
              "      div.appendChild(a);\n",
              "      a.click();\n",
              "      div.remove();\n",
              "    }\n",
              "  "
            ]
          },
          "metadata": {}
        },
        {
          "output_type": "display_data",
          "data": {
            "text/plain": [
              "<IPython.core.display.Javascript object>"
            ],
            "application/javascript": [
              "download(\"download_b426fdbc-3595-4bc1-94b5-039d7b152bc4\", \"a.txt\", 9)"
            ]
          },
          "metadata": {}
        }
      ]
    },
    {
      "cell_type": "code",
      "source": [
        "from google.colab import files\n",
        "\n",
        "f = open(\"b.txt\",'x') #create\n",
        "f.write(\"12345\")\n",
        "f.close()\n",
        "\n",
        "files.download('b.txt')"
      ],
      "metadata": {
        "id": "FJXZHlVKyv37",
        "outputId": "2855ab2a-e8d5-4524-8ac8-d0bf058e3e72",
        "colab": {
          "base_uri": "https://localhost:8080/",
          "height": 17
        }
      },
      "execution_count": null,
      "outputs": [
        {
          "output_type": "display_data",
          "data": {
            "text/plain": [
              "<IPython.core.display.Javascript object>"
            ],
            "application/javascript": [
              "\n",
              "    async function download(id, filename, size) {\n",
              "      if (!google.colab.kernel.accessAllowed) {\n",
              "        return;\n",
              "      }\n",
              "      const div = document.createElement('div');\n",
              "      const label = document.createElement('label');\n",
              "      label.textContent = `Downloading \"${filename}\": `;\n",
              "      div.appendChild(label);\n",
              "      const progress = document.createElement('progress');\n",
              "      progress.max = size;\n",
              "      div.appendChild(progress);\n",
              "      document.body.appendChild(div);\n",
              "\n",
              "      const buffers = [];\n",
              "      let downloaded = 0;\n",
              "\n",
              "      const channel = await google.colab.kernel.comms.open(id);\n",
              "      // Send a message to notify the kernel that we're ready.\n",
              "      channel.send({})\n",
              "\n",
              "      for await (const message of channel.messages) {\n",
              "        // Send a message to notify the kernel that we're ready.\n",
              "        channel.send({})\n",
              "        if (message.buffers) {\n",
              "          for (const buffer of message.buffers) {\n",
              "            buffers.push(buffer);\n",
              "            downloaded += buffer.byteLength;\n",
              "            progress.value = downloaded;\n",
              "          }\n",
              "        }\n",
              "      }\n",
              "      const blob = new Blob(buffers, {type: 'application/binary'});\n",
              "      const a = document.createElement('a');\n",
              "      a.href = window.URL.createObjectURL(blob);\n",
              "      a.download = filename;\n",
              "      div.appendChild(a);\n",
              "      a.click();\n",
              "      div.remove();\n",
              "    }\n",
              "  "
            ]
          },
          "metadata": {}
        },
        {
          "output_type": "display_data",
          "data": {
            "text/plain": [
              "<IPython.core.display.Javascript object>"
            ],
            "application/javascript": [
              "download(\"download_967cf6ab-05ae-4f21-b4bf-cb05e8e62a89\", \"b.txt\", 5)"
            ]
          },
          "metadata": {}
        }
      ]
    },
    {
      "cell_type": "code",
      "source": [
        "from google.colab import files\n",
        "# 생성된 파일이 있을으면 에러\n",
        "f = open(\"b.txt\",'x') #create\n",
        "f.write(\"12345\")\n",
        "f.close()\n",
        "\n",
        "files.download('b.txt')"
      ],
      "metadata": {
        "id": "Md3IjckXzGFD",
        "outputId": "7e851c64-cfdf-41f6-d52f-3ed641fd8c05",
        "colab": {
          "base_uri": "https://localhost:8080/",
          "height": 248
        }
      },
      "execution_count": null,
      "outputs": [
        {
          "output_type": "error",
          "ename": "FileExistsError",
          "evalue": "ignored",
          "traceback": [
            "\u001b[0;31m---------------------------------------------------------------------------\u001b[0m",
            "\u001b[0;31mFileExistsError\u001b[0m                           Traceback (most recent call last)",
            "\u001b[0;32m<ipython-input-8-8621d8ba20e7>\u001b[0m in \u001b[0;36m<cell line: 3>\u001b[0;34m()\u001b[0m\n\u001b[1;32m      1\u001b[0m \u001b[0;32mfrom\u001b[0m \u001b[0mgoogle\u001b[0m\u001b[0;34m.\u001b[0m\u001b[0mcolab\u001b[0m \u001b[0;32mimport\u001b[0m \u001b[0mfiles\u001b[0m\u001b[0;34m\u001b[0m\u001b[0;34m\u001b[0m\u001b[0m\n\u001b[1;32m      2\u001b[0m \u001b[0;34m\u001b[0m\u001b[0m\n\u001b[0;32m----> 3\u001b[0;31m \u001b[0mf\u001b[0m \u001b[0;34m=\u001b[0m \u001b[0mopen\u001b[0m\u001b[0;34m(\u001b[0m\u001b[0;34m\"b.txt\"\u001b[0m\u001b[0;34m,\u001b[0m\u001b[0;34m'x'\u001b[0m\u001b[0;34m)\u001b[0m \u001b[0;31m#create\u001b[0m\u001b[0;34m\u001b[0m\u001b[0;34m\u001b[0m\u001b[0m\n\u001b[0m\u001b[1;32m      4\u001b[0m \u001b[0mf\u001b[0m\u001b[0;34m.\u001b[0m\u001b[0mwrite\u001b[0m\u001b[0;34m(\u001b[0m\u001b[0;34m\"12345\"\u001b[0m\u001b[0;34m)\u001b[0m\u001b[0;34m\u001b[0m\u001b[0;34m\u001b[0m\u001b[0m\n\u001b[1;32m      5\u001b[0m \u001b[0mf\u001b[0m\u001b[0;34m.\u001b[0m\u001b[0mclose\u001b[0m\u001b[0;34m(\u001b[0m\u001b[0;34m)\u001b[0m\u001b[0;34m\u001b[0m\u001b[0;34m\u001b[0m\u001b[0m\n",
            "\u001b[0;31mFileExistsError\u001b[0m: [Errno 17] File exists: 'b.txt'"
          ]
        }
      ]
    },
    {
      "cell_type": "code",
      "source": [
        "# 여러줄 내용 입력\n",
        "from google.colab import files\n",
        "\n",
        "f = open(\"a.txt\",'w') # write\n",
        "#f.write(\"12345678\\n987654321\\nabcdef\") # \\n= 줄바꿈\n",
        "f.write(\"\"\"1234\n",
        "4567\n",
        "890\"\"\")  \n",
        "f.close()\n",
        "\n",
        "files.download('a.txt')"
      ],
      "metadata": {
        "id": "akK37GsdzXL7",
        "outputId": "9c9ac0a0-cc5e-42c4-df30-75df5ff6f29a",
        "colab": {
          "base_uri": "https://localhost:8080/",
          "height": 17
        }
      },
      "execution_count": null,
      "outputs": [
        {
          "output_type": "display_data",
          "data": {
            "text/plain": [
              "<IPython.core.display.Javascript object>"
            ],
            "application/javascript": [
              "\n",
              "    async function download(id, filename, size) {\n",
              "      if (!google.colab.kernel.accessAllowed) {\n",
              "        return;\n",
              "      }\n",
              "      const div = document.createElement('div');\n",
              "      const label = document.createElement('label');\n",
              "      label.textContent = `Downloading \"${filename}\": `;\n",
              "      div.appendChild(label);\n",
              "      const progress = document.createElement('progress');\n",
              "      progress.max = size;\n",
              "      div.appendChild(progress);\n",
              "      document.body.appendChild(div);\n",
              "\n",
              "      const buffers = [];\n",
              "      let downloaded = 0;\n",
              "\n",
              "      const channel = await google.colab.kernel.comms.open(id);\n",
              "      // Send a message to notify the kernel that we're ready.\n",
              "      channel.send({})\n",
              "\n",
              "      for await (const message of channel.messages) {\n",
              "        // Send a message to notify the kernel that we're ready.\n",
              "        channel.send({})\n",
              "        if (message.buffers) {\n",
              "          for (const buffer of message.buffers) {\n",
              "            buffers.push(buffer);\n",
              "            downloaded += buffer.byteLength;\n",
              "            progress.value = downloaded;\n",
              "          }\n",
              "        }\n",
              "      }\n",
              "      const blob = new Blob(buffers, {type: 'application/binary'});\n",
              "      const a = document.createElement('a');\n",
              "      a.href = window.URL.createObjectURL(blob);\n",
              "      a.download = filename;\n",
              "      div.appendChild(a);\n",
              "      a.click();\n",
              "      div.remove();\n",
              "    }\n",
              "  "
            ]
          },
          "metadata": {}
        },
        {
          "output_type": "display_data",
          "data": {
            "text/plain": [
              "<IPython.core.display.Javascript object>"
            ],
            "application/javascript": [
              "download(\"download_c31a0aa3-8485-4a8a-8c9b-9b44b8518e77\", \"a.txt\", 25)"
            ]
          },
          "metadata": {}
        }
      ]
    },
    {
      "cell_type": "code",
      "source": [
        "# 리스트. 튜플 내용을 입력\n",
        "from google.colab import files\n",
        "\n",
        "t = (\"1\",\"2\",\"3\",\"4\",\"\\n\")\n",
        "l = [\"a\",\"b\",\"c\",\"d\"]\n",
        "f = open(\"a.txt\",'w')\n",
        "f.writelines(t)\n",
        "f.writelines(l)\n",
        "\n",
        "files.download('a.txt')"
      ],
      "metadata": {
        "id": "arxMfFpa0mn7",
        "outputId": "a5a74e7c-ec5c-4509-b162-b84bf30dba24",
        "colab": {
          "base_uri": "https://localhost:8080/",
          "height": 17
        }
      },
      "execution_count": null,
      "outputs": [
        {
          "output_type": "display_data",
          "data": {
            "text/plain": [
              "<IPython.core.display.Javascript object>"
            ],
            "application/javascript": [
              "\n",
              "    async function download(id, filename, size) {\n",
              "      if (!google.colab.kernel.accessAllowed) {\n",
              "        return;\n",
              "      }\n",
              "      const div = document.createElement('div');\n",
              "      const label = document.createElement('label');\n",
              "      label.textContent = `Downloading \"${filename}\": `;\n",
              "      div.appendChild(label);\n",
              "      const progress = document.createElement('progress');\n",
              "      progress.max = size;\n",
              "      div.appendChild(progress);\n",
              "      document.body.appendChild(div);\n",
              "\n",
              "      const buffers = [];\n",
              "      let downloaded = 0;\n",
              "\n",
              "      const channel = await google.colab.kernel.comms.open(id);\n",
              "      // Send a message to notify the kernel that we're ready.\n",
              "      channel.send({})\n",
              "\n",
              "      for await (const message of channel.messages) {\n",
              "        // Send a message to notify the kernel that we're ready.\n",
              "        channel.send({})\n",
              "        if (message.buffers) {\n",
              "          for (const buffer of message.buffers) {\n",
              "            buffers.push(buffer);\n",
              "            downloaded += buffer.byteLength;\n",
              "            progress.value = downloaded;\n",
              "          }\n",
              "        }\n",
              "      }\n",
              "      const blob = new Blob(buffers, {type: 'application/binary'});\n",
              "      const a = document.createElement('a');\n",
              "      a.href = window.URL.createObjectURL(blob);\n",
              "      a.download = filename;\n",
              "      div.appendChild(a);\n",
              "      a.click();\n",
              "      div.remove();\n",
              "    }\n",
              "  "
            ]
          },
          "metadata": {}
        },
        {
          "output_type": "display_data",
          "data": {
            "text/plain": [
              "<IPython.core.display.Javascript object>"
            ],
            "application/javascript": [
              "download(\"download_42709613-14d3-4f90-a348-fb0ef31a7c18\", \"a.txt\", 0)"
            ]
          },
          "metadata": {}
        }
      ]
    },
    {
      "cell_type": "code",
      "source": [
        "# read 모드로 파일 열기\n",
        "from google.colab import files\n",
        "\n",
        "f = open(\"a.txt\",'w') \n",
        "f.write(\"1234\")\n",
        "f.close()\n",
        "\n",
        "f = open(\"a.txt\",'r') #read\n",
        "print(f.read())\n",
        "f.close()\n",
        "\n",
        "files.download('a.txt')"
      ],
      "metadata": {
        "id": "0vBF818N1y5D",
        "outputId": "e6d415f2-c62c-4204-dd0f-8e97a63a04c8",
        "colab": {
          "base_uri": "https://localhost:8080/",
          "height": 35
        }
      },
      "execution_count": null,
      "outputs": [
        {
          "output_type": "stream",
          "name": "stdout",
          "text": [
            "1234\n"
          ]
        },
        {
          "output_type": "display_data",
          "data": {
            "text/plain": [
              "<IPython.core.display.Javascript object>"
            ],
            "application/javascript": [
              "\n",
              "    async function download(id, filename, size) {\n",
              "      if (!google.colab.kernel.accessAllowed) {\n",
              "        return;\n",
              "      }\n",
              "      const div = document.createElement('div');\n",
              "      const label = document.createElement('label');\n",
              "      label.textContent = `Downloading \"${filename}\": `;\n",
              "      div.appendChild(label);\n",
              "      const progress = document.createElement('progress');\n",
              "      progress.max = size;\n",
              "      div.appendChild(progress);\n",
              "      document.body.appendChild(div);\n",
              "\n",
              "      const buffers = [];\n",
              "      let downloaded = 0;\n",
              "\n",
              "      const channel = await google.colab.kernel.comms.open(id);\n",
              "      // Send a message to notify the kernel that we're ready.\n",
              "      channel.send({})\n",
              "\n",
              "      for await (const message of channel.messages) {\n",
              "        // Send a message to notify the kernel that we're ready.\n",
              "        channel.send({})\n",
              "        if (message.buffers) {\n",
              "          for (const buffer of message.buffers) {\n",
              "            buffers.push(buffer);\n",
              "            downloaded += buffer.byteLength;\n",
              "            progress.value = downloaded;\n",
              "          }\n",
              "        }\n",
              "      }\n",
              "      const blob = new Blob(buffers, {type: 'application/binary'});\n",
              "      const a = document.createElement('a');\n",
              "      a.href = window.URL.createObjectURL(blob);\n",
              "      a.download = filename;\n",
              "      div.appendChild(a);\n",
              "      a.click();\n",
              "      div.remove();\n",
              "    }\n",
              "  "
            ]
          },
          "metadata": {}
        },
        {
          "output_type": "display_data",
          "data": {
            "text/plain": [
              "<IPython.core.display.Javascript object>"
            ],
            "application/javascript": [
              "download(\"download_4b9cff75-93fe-4bc7-9196-88a91adad079\", \"a.txt\", 4)"
            ]
          },
          "metadata": {}
        }
      ]
    },
    {
      "cell_type": "code",
      "source": [
        "# readline() 함수 = 한줄씩 가져옴\n",
        "f = open(\"a.txt\",'r') #read\n",
        "print(f.readlines())\n",
        "print(f.readlines())\n",
        "f.close()"
      ],
      "metadata": {
        "id": "m6kpq0f82gYM",
        "outputId": "3663a9fe-1b43-4f2d-a31e-9b6d7198c6e1",
        "colab": {
          "base_uri": "https://localhost:8080/"
        }
      },
      "execution_count": null,
      "outputs": [
        {
          "output_type": "stream",
          "name": "stdout",
          "text": [
            "['1234\\n', 'abcd']\n",
            "[]\n"
          ]
        }
      ]
    },
    {
      "cell_type": "code",
      "source": [
        "#파일 지우기\n",
        "from google.colab import files\n",
        "\n",
        "import os\n",
        "if os.path.exists(\"a.txt\"):\n",
        "  os.remove(\"a.txt\") #os.rmdir(\"forder\") = 폴더 지우기\n",
        "else:\n",
        "  print(\"파일이 없음\")"
      ],
      "metadata": {
        "id": "pinGc9Yi85Cb",
        "outputId": "0ec5ddcf-a17d-4b62-dc2c-6ea3d0dd2f17",
        "colab": {
          "base_uri": "https://localhost:8080/"
        }
      },
      "execution_count": null,
      "outputs": [
        {
          "output_type": "stream",
          "name": "stdout",
          "text": [
            "파일이 없음\n"
          ]
        }
      ]
    },
    {
      "cell_type": "code",
      "source": [
        "from google.colab import files\n",
        "import os\n",
        "\n",
        "print(os.listdir('.'))\n",
        "os.rename(\"b.txt\",\"a.txt\") #file이름 변경\n",
        "print(os.listdir('.'))"
      ],
      "metadata": {
        "id": "WTDRGM1x9ss1",
        "outputId": "96b8ef5c-921b-4081-8aec-0ec03ab625de",
        "colab": {
          "base_uri": "https://localhost:8080/"
        }
      },
      "execution_count": null,
      "outputs": [
        {
          "output_type": "stream",
          "name": "stdout",
          "text": [
            "['.config', 'b.txt', 'sample_data']\n",
            "['.config', 'a.txt', 'sample_data']\n"
          ]
        }
      ]
    },
    {
      "cell_type": "code",
      "source": [
        "from google.colab import files\n",
        "import os\n",
        "# 파일 존재 유무 확인\n",
        "print(os.path.exists('a.txt'))\n",
        "print(os.path.exists('b.txt'))"
      ],
      "metadata": {
        "id": "OJtVj2_t-xCT",
        "outputId": "38c15508-058d-44af-f019-e5b8dad8b8f2",
        "colab": {
          "base_uri": "https://localhost:8080/"
        }
      },
      "execution_count": null,
      "outputs": [
        {
          "output_type": "stream",
          "name": "stdout",
          "text": [
            "True\n",
            "False\n"
          ]
        }
      ]
    },
    {
      "cell_type": "code",
      "source": [
        "# 구구단 파일로 저장\n",
        "from google.colab import files\n",
        "import sys\n",
        "\n",
        "f = open(\"a.txt\",'w', encoding='utf8')\n",
        "sys.stdout = f \n",
        "for i in range(2,10):\n",
        "  for j in range(1,10):\n",
        "    print(\"{} x {} = {}\".format(i,j,i*j))\n",
        "f.close()\n",
        "\n",
        "files.download('a.txt')"
      ],
      "metadata": {
        "id": "PuLhm9g1_pHb"
      },
      "execution_count": null,
      "outputs": []
    },
    {
      "cell_type": "code",
      "source": [
        "from google.colab import files\n",
        "import sys\n",
        "\n",
        "f = open(\"c.txt\",'w', encoding='utf8')\n",
        "f.write(\"동해물과 백두산이 마르고 닳도록\\n안녕하세요.\\nHello World!!\")\n",
        "f.close()\n",
        "\n",
        "f.opne(\"c.txt\",'r', encoding='utf8')\n",
        "lines = f.readlines()\n",
        "for line in lines:\n",
        "  print(line, end='')\n",
        "f.close()\n",
        "\n",
        "files.download('c.txt')\n"
      ],
      "metadata": {
        "id": "rrN_RAlADcWC",
        "outputId": "3cd9aa86-7ecf-43ee-e497-809fbf0069e2",
        "colab": {
          "base_uri": "https://localhost:8080/",
          "height": 248
        }
      },
      "execution_count": 1,
      "outputs": [
        {
          "output_type": "error",
          "ename": "AttributeError",
          "evalue": "ignored",
          "traceback": [
            "\u001b[0;31m---------------------------------------------------------------------------\u001b[0m",
            "\u001b[0;31mAttributeError\u001b[0m                            Traceback (most recent call last)",
            "\u001b[0;32m<ipython-input-1-6df824768e7e>\u001b[0m in \u001b[0;36m<cell line: 8>\u001b[0;34m()\u001b[0m\n\u001b[1;32m      6\u001b[0m \u001b[0mf\u001b[0m\u001b[0;34m.\u001b[0m\u001b[0mclose\u001b[0m\u001b[0;34m(\u001b[0m\u001b[0;34m)\u001b[0m\u001b[0;34m\u001b[0m\u001b[0;34m\u001b[0m\u001b[0m\n\u001b[1;32m      7\u001b[0m \u001b[0;34m\u001b[0m\u001b[0m\n\u001b[0;32m----> 8\u001b[0;31m \u001b[0mf\u001b[0m\u001b[0;34m.\u001b[0m\u001b[0mopne\u001b[0m\u001b[0;34m(\u001b[0m\u001b[0;34m\"c.txt\"\u001b[0m\u001b[0;34m,\u001b[0m\u001b[0;34m'r'\u001b[0m\u001b[0;34m,\u001b[0m \u001b[0mencoding\u001b[0m\u001b[0;34m=\u001b[0m\u001b[0;34m'utf8'\u001b[0m\u001b[0;34m)\u001b[0m\u001b[0;34m\u001b[0m\u001b[0;34m\u001b[0m\u001b[0m\n\u001b[0m\u001b[1;32m      9\u001b[0m \u001b[0mlines\u001b[0m \u001b[0;34m=\u001b[0m \u001b[0mf\u001b[0m\u001b[0;34m.\u001b[0m\u001b[0mreadlines\u001b[0m\u001b[0;34m(\u001b[0m\u001b[0;34m)\u001b[0m\u001b[0;34m\u001b[0m\u001b[0;34m\u001b[0m\u001b[0m\n\u001b[1;32m     10\u001b[0m \u001b[0;32mfor\u001b[0m \u001b[0mline\u001b[0m \u001b[0;32min\u001b[0m \u001b[0mlines\u001b[0m\u001b[0;34m:\u001b[0m\u001b[0;34m\u001b[0m\u001b[0;34m\u001b[0m\u001b[0m\n",
            "\u001b[0;31mAttributeError\u001b[0m: '_io.TextIOWrapper' object has no attribute 'opne'"
          ]
        }
      ]
    }
  ]
}